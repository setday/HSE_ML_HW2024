{
 "cells": [
  {
   "cell_type": "markdown",
   "id": "75463811-fb8b-412c-a738-fb4b6a2ad203",
   "metadata": {},
   "source": [
    "# ДЗ 7\n",
    "\n",
    "Взять модель из предыдущей домашки и написать программу-обертку для обучения и предсказания модели.\n",
    "\n",
    "Читать аргументы консоли можно, например, при помощи click https://click.palletsprojects.com\n",
    "\n",
    "## Easy\n",
    "\n",
    "Написать CLI-программу, которая должна уметь делать вот такие штуки:\n",
    "\n",
    "`python main.py train --data train.csv --test test.csv --model model.pkl`\n",
    "\n",
    "`python main.py train --data train.csv --split 0.2 --model model.pkl`\n",
    "\n",
    "`python main.py predict --model model.pkl --data \"some text\"`\n",
    "\n",
    "`python main.py predict --model model.pkl --data test.csv`\n",
    "\n",
    "Команда `train` должна обучать модель по данным `--data` и складывать результат в `--model` в формате pickle. Если передается аргумент `--test` или `--split`, то формируется тестовый датасет, на котором нужно будет посчитать метрики после обучения. `--test` - пусть до файла с тестовыми данными в том же формате, что и `--data`. `--split` - доля тестовой выборки, которая отделится от `--data`.\n",
    "\n",
    "Команда `predict` должна выдавать предсказание модели. `--model` - путь до файла с моделью с этапа обучения, `data` - либо файл, либо строка. Если это файл, то формат как в `--data` и тогда в консоль выводим предсказания через `\\n`.\n",
    "\n",
    "Вызвать в юпитер ноутбуки эти команды (через восклицательный знак), вывод должен остаться в ноутбуке как доказательство работоспособности команды\n",
    "\n",
    "## Medium\n",
    "\n",
    "Написать тесты на ваш код. Обработать краевые случаи.\n",
    "\n",
    "`python main.py test`\n",
    "или\n",
    "`pytest`\n",
    "\n",
    "Должно быть минимум три теста\n",
    "- функцию обучения (что оно корректно запускается на корректных данных, корректно реагирует на некорректные данные и что на выходе появляется sklearn-подобный файлик) - лучше запустить на каких-то небольших фиксированных данных и на маленькое количество итераций. после того, как тест отработает, файлик с моделью нужно удалить.\n",
    "- функцию предикта, и что на выходе ничего не появляется, кроме того, что ожидается (стоит подумать, что подавать на вход)\n",
    "- функцию разбиения данных - что это происходит в правильной пропорции и что происходит перемешивание. не забываем, что можно контроллировать random seed.\n",
    "\n",
    "## Hard\n",
    "\n",
    "Сделать простого телеграм-ботика с единственной функцией - он слушает входящие сообщения и отвечает тем, что скажет модель. Приложить в ноутбук скриншот с диалогом с ботом."
   ]
  },
  {
   "cell_type": "code",
   "execution_count": null,
   "id": "b9b664ef-eee9-4fbc-ac0e-eb6cf134932d",
   "metadata": {},
   "outputs": [],
   "source": []
  },
  {
   "cell_type": "markdown",
   "id": "cc74e067-7f43-46fe-bed0-94bde8cfc1b5",
   "metadata": {},
   "source": [
    "# Оформление"
   ]
  },
  {
   "cell_type": "markdown",
   "id": "85cebdfa-6bb7-4e10-ab68-e88dee9ac313",
   "metadata": {},
   "source": [
    "## Easy"
   ]
  },
  {
   "cell_type": "code",
   "execution_count": 4,
   "id": "37ed4e81-d3ef-43e3-a0da-99422f13cbe5",
   "metadata": {},
   "outputs": [
    {
     "name": "stdout",
     "output_type": "stream",
     "text": [
      "3588    The flight was on time and staff extremely hel...\n",
      "8801    Whilst the attendants were pleasant the whole ...\n",
      "6338    I flew with Singapore Airlines from Jakarta to...\n",
      "3030    Smooth flight, great cabin crews and high qual...\n",
      "6006    This is literally the best airline I have ever...\n",
      "                              ...                        \n",
      "6703    Flying at 10.30pm on a red-eye to the UK was m...\n",
      "791     A solo male passenger can occupy a bassinet se...\n",
      "2710    once did they ask us did we want water,English...\n",
      "6306    Travelling back to AUS was a lot better than g...\n",
      "4828    Flew to Brisbane on SQ265 last month and was r...\n",
      "Name: text, Length: 8000, dtype: object 3588    5\n",
      "8801    2\n",
      "6338    4\n",
      "3030    5\n",
      "6006    5\n",
      "       ..\n",
      "6703    5\n",
      "791     2\n",
      "2710    2\n",
      "6306    5\n",
      "4828    5\n",
      "Name: rating, Length: 8000, dtype: int64\n"
     ]
    },
    {
     "name": "stderr",
     "output_type": "stream",
     "text": [
      "Traceback (most recent call last):\n",
      "  File \"c:\\Users\\setday\\AppData\\Local\\Programs\\Python\\Python311\\Lib\\site-packages\\pandas\\core\\indexes\\base.py\", line 3790, in get_loc\n",
      "    return self._engine.get_loc(casted_key)\n",
      "           ^^^^^^^^^^^^^^^^^^^^^^^^^^^^^^^^\n",
      "  File \"index.pyx\", line 152, in pandas._libs.index.IndexEngine.get_loc\n",
      "  File \"index.pyx\", line 181, in pandas._libs.index.IndexEngine.get_loc\n",
      "  File \"pandas\\_libs\\hashtable_class_helper.pxi\", line 2606, in pandas._libs.hashtable.Int64HashTable.get_item\n",
      "  File \"pandas\\_libs\\hashtable_class_helper.pxi\", line 2630, in pandas._libs.hashtable.Int64HashTable.get_item\n",
      "KeyError: 0\n",
      "\n",
      "The above exception was the direct cause of the following exception:\n",
      "\n",
      "Traceback (most recent call last):\n",
      "  File \"e:\\Projects\\HSE\\HSE_ML_HW2024\\py_code\\07-homework\\main.py\", line 102, in <module>\n",
      "    main()\n",
      "  File \"c:\\Users\\setday\\AppData\\Local\\Programs\\Python\\Python311\\Lib\\site-packages\\click\\core.py\", line 1157, in __call__\n",
      "    return self.main(*args, **kwargs)\n",
      "           ^^^^^^^^^^^^^^^^^^^^^^^^^^\n",
      "  File \"c:\\Users\\setday\\AppData\\Local\\Programs\\Python\\Python311\\Lib\\site-packages\\click\\core.py\", line 1078, in main\n",
      "    rv = self.invoke(ctx)\n",
      "         ^^^^^^^^^^^^^^^^\n",
      "  File \"c:\\Users\\setday\\AppData\\Local\\Programs\\Python\\Python311\\Lib\\site-packages\\click\\core.py\", line 1434, in invoke\n",
      "    return ctx.invoke(self.callback, **ctx.params)\n",
      "           ^^^^^^^^^^^^^^^^^^^^^^^^^^^^^^^^^^^^^^^\n",
      "  File \"c:\\Users\\setday\\AppData\\Local\\Programs\\Python\\Python311\\Lib\\site-packages\\click\\core.py\", line 783, in invoke\n",
      "    return __callback(*args, **kwargs)\n",
      "           ^^^^^^^^^^^^^^^^^^^^^^^^^^^\n",
      "  File \"e:\\Projects\\HSE\\HSE_ML_HW2024\\py_code\\07-homework\\main.py\", line 93, in main\n",
      "    fit(model, data, test)\n",
      "  File \"e:\\Projects\\HSE\\HSE_ML_HW2024\\py_code\\07-homework\\main.py\", line 57, in fit\n",
      "    model.fit(\n",
      "  File \"c:\\Users\\setday\\AppData\\Local\\Programs\\Python\\Python311\\Lib\\site-packages\\catboost\\core.py\", line 5201, in fit\n",
      "    self._fit(X, y, cat_features, text_features, embedding_features, None, sample_weight, None, None, None, None, baseline, use_best_model,\n",
      "  File \"c:\\Users\\setday\\AppData\\Local\\Programs\\Python\\Python311\\Lib\\site-packages\\catboost\\core.py\", line 2381, in _fit\n",
      "    train_params = self._prepare_train_params(\n",
      "                   ^^^^^^^^^^^^^^^^^^^^^^^^^^^\n",
      "  File \"c:\\Users\\setday\\AppData\\Local\\Programs\\Python\\Python311\\Lib\\site-packages\\catboost\\core.py\", line 2261, in _prepare_train_params\n",
      "    train_pool = _build_train_pool(X, y, cat_features, text_features, embedding_features, pairs,\n",
      "                 ^^^^^^^^^^^^^^^^^^^^^^^^^^^^^^^^^^^^^^^^^^^^^^^^^^^^^^^^^^^^^^^^^^^^^^^^^^^^^^^\n",
      "  File \"c:\\Users\\setday\\AppData\\Local\\Programs\\Python\\Python311\\Lib\\site-packages\\catboost\\core.py\", line 1499, in _build_train_pool\n",
      "    train_pool = Pool(X, y, cat_features=cat_features, text_features=text_features, embedding_features=embedding_features, pairs=pairs, weight=sample_weight, group_id=group_id,\n",
      "                 ^^^^^^^^^^^^^^^^^^^^^^^^^^^^^^^^^^^^^^^^^^^^^^^^^^^^^^^^^^^^^^^^^^^^^^^^^^^^^^^^^^^^^^^^^^^^^^^^^^^^^^^^^^^^^^^^^^^^^^^^^^^^^^^^^^^^^^^^^^^^^^^^^^^^^^^^^^^^^^^\n",
      "  File \"c:\\Users\\setday\\AppData\\Local\\Programs\\Python\\Python311\\Lib\\site-packages\\catboost\\core.py\", line 760, in __init__\n",
      "    self._check_data_empty(data)\n",
      "  File \"c:\\Users\\setday\\AppData\\Local\\Programs\\Python\\Python311\\Lib\\site-packages\\catboost\\core.py\", line 937, in _check_data_empty\n",
      "    if isinstance(data[0], Iterable):\n",
      "                  ~~~~^^^\n",
      "  File \"c:\\Users\\setday\\AppData\\Local\\Programs\\Python\\Python311\\Lib\\site-packages\\pandas\\core\\series.py\", line 1040, in __getitem__\n",
      "    return self._get_value(key)\n",
      "           ^^^^^^^^^^^^^^^^^^^^\n",
      "  File \"c:\\Users\\setday\\AppData\\Local\\Programs\\Python\\Python311\\Lib\\site-packages\\pandas\\core\\series.py\", line 1156, in _get_value\n",
      "    loc = self.index.get_loc(label)\n",
      "          ^^^^^^^^^^^^^^^^^^^^^^^^^\n",
      "  File \"c:\\Users\\setday\\AppData\\Local\\Programs\\Python\\Python311\\Lib\\site-packages\\pandas\\core\\indexes\\base.py\", line 3797, in get_loc\n",
      "    raise KeyError(key) from err\n",
      "KeyError: 0\n"
     ]
    }
   ],
   "source": [
    "! python ../py_code/07-homework/main.py train --data ../data/singapore_airlines_reviews.csv --model model.pkl"
   ]
  },
  {
   "cell_type": "code",
   "execution_count": 2,
   "id": "554faf65-e584-4152-81f2-5c8c48d30d1d",
   "metadata": {},
   "outputs": [
    {
     "name": "stdout",
     "output_type": "stream",
     "text": [
      "You called command `predict` and you passed file `some text` which  doesn't exist\n"
     ]
    }
   ],
   "source": [
    "! python main.py predict --data \"some text\""
   ]
  },
  {
   "cell_type": "markdown",
   "id": "2573408a-b977-4476-bf39-b12f9db1226d",
   "metadata": {},
   "source": [
    "## Medium\n",
    "\n",
    "Если пишете еще один обработчик - можно так"
   ]
  },
  {
   "cell_type": "code",
   "execution_count": 3,
   "id": "55a348ff-46ad-4495-b12a-c57e9f6986d3",
   "metadata": {},
   "outputs": [
    {
     "name": "stdout",
     "output_type": "stream",
     "text": [
      "You called command `test`\n"
     ]
    }
   ],
   "source": [
    "! python main.py test"
   ]
  },
  {
   "cell_type": "markdown",
   "id": "c9c8c119-f3ab-46f7-9487-4c4809e7c8df",
   "metadata": {},
   "source": [
    "Если используете pytest - можно так"
   ]
  },
  {
   "cell_type": "code",
   "execution_count": 4,
   "id": "40b4a4bc-07ed-4c63-97bd-2ade08c07d39",
   "metadata": {},
   "outputs": [
    {
     "name": "stdout",
     "output_type": "stream",
     "text": [
      "\u001b[1m============================= test session starts ==============================\u001b[0m\n",
      "platform darwin -- Python 3.9.19, pytest-8.1.1, pluggy-1.5.0\n",
      "rootdir: /Users/svkov42/Documents/hse_course/lesson_12\n",
      "plugins: anyio-3.5.0\n",
      "collected 0 items                                                              \u001b[0m\n",
      "\n",
      "\u001b[33m============================ \u001b[33mno tests ran\u001b[0m\u001b[33m in 0.00s\u001b[0m\u001b[33m =============================\u001b[0m\n"
     ]
    }
   ],
   "source": [
    "! pytest"
   ]
  },
  {
   "cell_type": "markdown",
   "id": "c84189cc-db04-4365-9d91-b5b5e4d1fbcb",
   "metadata": {},
   "source": [
    "Чтобы pytest выводил принты, добавляем аргумент `-s`"
   ]
  },
  {
   "cell_type": "code",
   "execution_count": 5,
   "id": "3d106a44-9af1-4792-925f-da534aa6fc5a",
   "metadata": {},
   "outputs": [
    {
     "name": "stdout",
     "output_type": "stream",
     "text": [
      "\u001b[1m============================= test session starts ==============================\u001b[0m\n",
      "platform darwin -- Python 3.9.19, pytest-8.1.1, pluggy-1.5.0\n",
      "rootdir: /Users/svkov42/Documents/hse_course/lesson_12\n",
      "plugins: anyio-3.5.0\n",
      "collected 0 items                                                              \u001b[0m\n",
      "\n",
      "\u001b[33m============================ \u001b[33mno tests ran\u001b[0m\u001b[33m in 0.00s\u001b[0m\u001b[33m =============================\u001b[0m\n"
     ]
    }
   ],
   "source": [
    "! pytest -s"
   ]
  },
  {
   "cell_type": "code",
   "execution_count": null,
   "id": "35d1be86-095c-4d40-ab68-87e69285ebcd",
   "metadata": {},
   "outputs": [],
   "source": []
  }
 ],
 "metadata": {
  "kernelspec": {
   "display_name": "Python 3 (ipykernel)",
   "language": "python",
   "name": "python3"
  },
  "language_info": {
   "codemirror_mode": {
    "name": "ipython",
    "version": 3
   },
   "file_extension": ".py",
   "mimetype": "text/x-python",
   "name": "python",
   "nbconvert_exporter": "python",
   "pygments_lexer": "ipython3",
   "version": "3.11.3"
  }
 },
 "nbformat": 4,
 "nbformat_minor": 5
}
